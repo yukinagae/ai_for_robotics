{
 "cells": [
  {
   "cell_type": "markdown",
   "metadata": {},
   "source": [
    "# 1D"
   ]
  },
  {
   "cell_type": "markdown",
   "metadata": {},
   "source": [
    "## Code"
   ]
  },
  {
   "cell_type": "code",
   "execution_count": 330,
   "metadata": {
    "collapsed": true
   },
   "outputs": [],
   "source": [
    "def sense(p, z, world, p_hit, p_miss):\n",
    "    q = [] # 計測後の事後確率\n",
    "    s = 0 # 全確率の総計\n",
    "    for i in range(len(p)):\n",
    "        hit = int(z == world[i])\n",
    "        p_i = p[i] * (hit * p_hit + (1-hit) * p_miss)\n",
    "        q.append(p_i)\n",
    "        s += p_i\n",
    "    return [x / s for x in q] # 正規化（＝全確率の総計で割る）"
   ]
  },
  {
   "cell_type": "code",
   "execution_count": 331,
   "metadata": {},
   "outputs": [],
   "source": [
    "def move(p, motion, p_exact, p_over, p_under):\n",
    "    q = []\n",
    "    for i in range(len(p)):\n",
    "        s = p_exact * p[(i-motion) % len(p)] #  正確に移動した場合\n",
    "        s = s + p_over * p[(i-motion-1) % len(p)] # オーバーの場合（＝-1前のセルの確率も足す）\n",
    "        s = s + p_under * p[(i-motion+1) % len(p)] # アンダーの場合（＝+1前のセルの確率も足す）\n",
    "        q.append(s)\n",
    "    return q"
   ]
  },
  {
   "cell_type": "markdown",
   "metadata": {},
   "source": [
    "## Test"
   ]
  },
  {
   "cell_type": "code",
   "execution_count": 332,
   "metadata": {},
   "outputs": [
    {
     "name": "stdout",
     "output_type": "stream",
     "text": [
      "[0.07882352941176471, 0.07529411764705884, 0.22470588235294123, 0.4329411764705882, 0.18823529411764706]\n"
     ]
    }
   ],
   "source": [
    "p = [0.2, 0.2, 0.2, 0.2, 0.2]\n",
    "world = ['green', 'red', 'red', 'green', 'green']\n",
    "measurements = ['red', 'red']\n",
    "motions = [1, 1]\n",
    "pHit = 0.6\n",
    "pMiss = 0.2\n",
    "pExact = 0.8\n",
    "pOvershoot = 0.1\n",
    "pUndershoot = 0.1\n",
    "\n",
    "for k in range(len(measurements)):\n",
    "    p = sense(p, measurements[k], world, pHit, pMiss)\n",
    "    p = move(p, motions[k], pExact, pOvershoot, pUndershoot)\n",
    "    \n",
    "print(p)"
   ]
  },
  {
   "cell_type": "markdown",
   "metadata": {},
   "source": [
    "# 2D"
   ]
  },
  {
   "cell_type": "markdown",
   "metadata": {},
   "source": [
    "## Code"
   ]
  },
  {
   "cell_type": "code",
   "execution_count": 179,
   "metadata": {
    "collapsed": true
   },
   "outputs": [],
   "source": [
    "# The function localize takes the following arguments:\n",
    "#\n",
    "# colors:\n",
    "#        2D list, each entry either 'R' (for red cell) or 'G' (for green cell)\n",
    "#\n",
    "# measurements:\n",
    "#        list of measurements taken by the robot, each entry either 'R' or 'G'\n",
    "#\n",
    "# motions:\n",
    "#        list of actions taken by the robot, each entry of the form [dy,dx],\n",
    "#        where dx refers to the change in the x-direction (positive meaning\n",
    "#        movement to the right) and dy refers to the change in the y-direction\n",
    "#        (positive meaning movement downward)\n",
    "#        NOTE: the *first* coordinate is change in y; the *second* coordinate is\n",
    "#              change in x\n",
    "#\n",
    "# sensor_right:\n",
    "#        float between 0 and 1, giving the probability that any given\n",
    "#        measurement is correct; the probability that the measurement is\n",
    "#        incorrect is 1-sensor_right\n",
    "#\n",
    "# p_move:\n",
    "#        float between 0 and 1, giving the probability that any given movement\n",
    "#        command takes place; the probability that the movement command fails\n",
    "#        (and the robot remains still) is 1-p_move; the robot will NOT overshoot\n",
    "#        its destination in this exercise\n",
    "#\n",
    "# The function should RETURN (not just show or print) a 2D list (of the same\n",
    "# dimensions as colors) that gives the probabilities that the robot occupies\n",
    "# each cell in the world.\n",
    "#\n",
    "# Compute the probabilities by assuming the robot initially has a uniform\n",
    "# probability of being in any cell.\n",
    "#\n",
    "# Also assume that at each step, the robot:\n",
    "# 1) first makes a movement,\n",
    "# 2) then takes a measurement.\n",
    "#\n",
    "# Motion:\n",
    "#  [0,0] - stay\n",
    "#  [0,1] - right\n",
    "#  [0,-1] - left\n",
    "#  [1,0] - down\n",
    "#  [-1,0] - up"
   ]
  },
  {
   "cell_type": "code",
   "execution_count": 345,
   "metadata": {},
   "outputs": [],
   "source": [
    "def sense2D(p, z, world, p_hit, p_miss):\n",
    "    q = [] # 計測後の事後確率\n",
    "    s = 0 # 全確率の総計\n",
    "    for a in range(len(p)):\n",
    "        row = []\n",
    "        for b in range(len(p[0])):\n",
    "            hit = int(z == world[a][b])\n",
    "            p_i = p[a][b] * (hit * p_hit + (1-hit) * p_miss)\n",
    "            row.append(p_i)\n",
    "            s += p_i\n",
    "        q.append(row)\n",
    "    return [[q[a][b] / s for b in range(len(q[0]))] for a in range(len(q))] # 正規化（＝全確率の総計で割る）"
   ]
  },
  {
   "cell_type": "code",
   "execution_count": 392,
   "metadata": {},
   "outputs": [],
   "source": [
    "def move2D(p, motion, p_exact, p_stay):\n",
    "    q = []\n",
    "    for a in range(len(p)):\n",
    "        row = []\n",
    "        for b in range(len(p[0])):\n",
    "            s = p_exact * p[(a-motion[0]) % len(p)][(b-motion[1]) % len(p[0])] #  正確に移動した場合\n",
    "#             s = s + p_over * p[(a-motion[0]-1) % len(p)][(b-motion[1]-1) % len(p[0])] # オーバーの場合（＝-1前のセルの確率も足す）\n",
    "#             s = s + p_under * p[(a-motion[0]+1) % len(p)][(b-motion[1]+1) % len(p[0])] # アンダーの場合（＝+1前のセルの確率も足す）\n",
    "            s = s + p_stay * p[a][b]\n",
    "            row.append(s)\n",
    "        q.append(row)\n",
    "    return q"
   ]
  },
  {
   "cell_type": "code",
   "execution_count": 393,
   "metadata": {},
   "outputs": [],
   "source": [
    "def localize(colors, measurements, motions, sensor_right, p_move):\n",
    "    # initializes p to a uniform distribution over a grid of the same dimensions as colors\n",
    "    pinit = 1.0 / float(len(colors)) / float(len(colors[0]))\n",
    "    p = [[pinit for row in range(len(colors[0]))] for col in range(len(colors))]\n",
    "    \n",
    "    for i in range(len(measurements)):\n",
    "        p = move2D(p, motions[i], p_move, (1-p_move))\n",
    "        p = sense2D(p, measurements[i], colors, sensor_right, (1 - sensor_right))\n",
    "    \n",
    "    return p\n",
    "\n",
    "def show(p):\n",
    "    rows = ['[' + ','.join(map(lambda x: '{0:.5f}'.format(x),r)) + ']' for r in p]\n",
    "    print('[' + ',\\n '.join(rows) + ']')"
   ]
  },
  {
   "cell_type": "code",
   "execution_count": 394,
   "metadata": {},
   "outputs": [
    {
     "name": "stdout",
     "output_type": "stream",
     "text": [
      "[[0.01106,0.02464,0.06800,0.04472,0.02465],\n",
      " [0.00715,0.01017,0.08697,0.07988,0.00935],\n",
      " [0.00740,0.00894,0.11273,0.35351,0.04066],\n",
      " [0.00911,0.00715,0.01435,0.04313,0.03643]]\n"
     ]
    }
   ],
   "source": [
    "#############################################################\n",
    "# For the following test case, your output should be \n",
    "# [[0.01105, 0.02464, 0.06799, 0.04472, 0.02465],\n",
    "#  [0.00715, 0.01017, 0.08696, 0.07988, 0.00935],\n",
    "#  [0.00739, 0.00894, 0.11272, 0.35350, 0.04065],\n",
    "#  [0.00910, 0.00715, 0.01434, 0.04313, 0.03642]]\n",
    "# (within a tolerance of +/- 0.001 for each entry)\n",
    "\n",
    "colors = [['R','G','G','R','R'],\n",
    "          ['R','R','G','R','R'],\n",
    "          ['R','R','G','G','R'],\n",
    "          ['R','R','R','R','R']]\n",
    "measurements = ['G','G','G','G','G']\n",
    "motions = [[0,0],[0,1],[1,0],[1,0],[0,1]]\n",
    "p = localize(colors, measurements, motions, sensor_right = 0.7, p_move = 0.8)\n",
    "show(p) # displays your answer"
   ]
  },
  {
   "cell_type": "markdown",
   "metadata": {},
   "source": [
    "## Test"
   ]
  },
  {
   "cell_type": "code",
   "execution_count": 395,
   "metadata": {},
   "outputs": [
    {
     "name": "stdout",
     "output_type": "stream",
     "text": [
      "[[0.00000,0.00000,0.00000],\n",
      " [0.00000,1.00000,0.00000],\n",
      " [0.00000,0.00000,0.00000]]\n"
     ]
    }
   ],
   "source": [
    "# test 1\n",
    "colors = [['G', 'G', 'G'],\n",
    "          ['G', 'R', 'G'],\n",
    "          ['G', 'G', 'G']]\n",
    "measurements = ['R']\n",
    "motions = [[0,0]]\n",
    "sensor_right = 1.0\n",
    "p_move = 1.0\n",
    "p = localize(colors,measurements,motions,sensor_right,p_move)\n",
    "correct_answer = (\n",
    "    [[0.0, 0.0, 0.0],\n",
    "     [0.0, 1.0, 0.0],\n",
    "     [0.0, 0.0, 0.0]])\n",
    "show(p)"
   ]
  },
  {
   "cell_type": "code",
   "execution_count": 396,
   "metadata": {},
   "outputs": [
    {
     "name": "stdout",
     "output_type": "stream",
     "text": [
      "[[0.00000,0.00000,0.00000],\n",
      " [0.00000,0.50000,0.50000],\n",
      " [0.00000,0.00000,0.00000]]\n"
     ]
    }
   ],
   "source": [
    "# test 2\n",
    "colors = [['G', 'G', 'G'],\n",
    "          ['G', 'R', 'R'],\n",
    "          ['G', 'G', 'G']]\n",
    "measurements = ['R']\n",
    "motions = [[0,0]]\n",
    "sensor_right = 1.0\n",
    "p_move = 1.0\n",
    "p = localize(colors,measurements,motions,sensor_right,p_move)\n",
    "correct_answer = (\n",
    "    [[0.0, 0.0, 0.0],\n",
    "     [0.0, 0.5, 0.5],\n",
    "     [0.0, 0.0, 0.0]])\n",
    "show(p)"
   ]
  },
  {
   "cell_type": "code",
   "execution_count": 397,
   "metadata": {},
   "outputs": [
    {
     "name": "stdout",
     "output_type": "stream",
     "text": [
      "[[0.06667,0.06667,0.06667],\n",
      " [0.06667,0.26667,0.26667],\n",
      " [0.06667,0.06667,0.06667]]\n"
     ]
    }
   ],
   "source": [
    "# test 3\n",
    "colors = [['G', 'G', 'G'],\n",
    "          ['G', 'R', 'R'],\n",
    "          ['G', 'G', 'G']]\n",
    "measurements = ['R']\n",
    "motions = [[0,0]]\n",
    "sensor_right = 0.8\n",
    "p_move = 1.0\n",
    "p = localize(colors,measurements,motions,sensor_right,p_move)\n",
    "correct_answer = (\n",
    "    [[0.06666666666, 0.06666666666, 0.06666666666],\n",
    "     [0.06666666666, 0.26666666666, 0.26666666666],\n",
    "     [0.06666666666, 0.06666666666, 0.06666666666]])\n",
    "show(p)"
   ]
  },
  {
   "cell_type": "code",
   "execution_count": 398,
   "metadata": {},
   "outputs": [
    {
     "name": "stdout",
     "output_type": "stream",
     "text": [
      "[[0.03333,0.03333,0.03333],\n",
      " [0.13333,0.13333,0.53333],\n",
      " [0.03333,0.03333,0.03333]]\n"
     ]
    }
   ],
   "source": [
    "# test 4\n",
    "colors = [['G', 'G', 'G'],\n",
    "          ['G', 'R', 'R'],\n",
    "          ['G', 'G', 'G']]\n",
    "measurements = ['R', 'R']\n",
    "motions = [[0,0], [0,1]]\n",
    "sensor_right = 0.8\n",
    "p_move = 1.0\n",
    "p = localize(colors,measurements,motions,sensor_right,p_move)\n",
    "correct_answer = (\n",
    "    [[0.03333333333, 0.03333333333, 0.03333333333],\n",
    "     [0.13333333333, 0.13333333333, 0.53333333333],\n",
    "     [0.03333333333, 0.03333333333, 0.03333333333]])\n",
    "show(p)"
   ]
  },
  {
   "cell_type": "code",
   "execution_count": 399,
   "metadata": {},
   "outputs": [
    {
     "name": "stdout",
     "output_type": "stream",
     "text": [
      "[[0.00000,0.00000,0.00000],\n",
      " [0.00000,0.00000,1.00000],\n",
      " [0.00000,0.00000,0.00000]]\n"
     ]
    }
   ],
   "source": [
    "# test 5\n",
    "colors = [['G', 'G', 'G'],\n",
    "          ['G', 'R', 'R'],\n",
    "          ['G', 'G', 'G']]\n",
    "measurements = ['R', 'R']\n",
    "motions = [[0,0], [0,1]]\n",
    "sensor_right = 1.0\n",
    "p_move = 1.0\n",
    "p = localize(colors,measurements,motions,sensor_right,p_move)\n",
    "correct_answer = (\n",
    "    [[0.0, 0.0, 0.0],\n",
    "     [0.0, 0.0, 1.0],\n",
    "     [0.0, 0.0, 0.0]])\n",
    "show(p)"
   ]
  },
  {
   "cell_type": "code",
   "execution_count": 400,
   "metadata": {},
   "outputs": [
    {
     "name": "stdout",
     "output_type": "stream",
     "text": [
      "[[0.02899,0.02899,0.02899],\n",
      " [0.07246,0.28986,0.46377],\n",
      " [0.02899,0.02899,0.02899]]\n"
     ]
    }
   ],
   "source": [
    "# test 6\n",
    "colors = [['G', 'G', 'G'],\n",
    "          ['G', 'R', 'R'],\n",
    "          ['G', 'G', 'G']]\n",
    "measurements = ['R', 'R']\n",
    "motions = [[0,0], [0,1]]\n",
    "sensor_right = 0.8\n",
    "p_move = 0.5\n",
    "p = localize(colors,measurements,motions,sensor_right,p_move)\n",
    "correct_answer = (\n",
    "    [[0.0289855072, 0.0289855072, 0.0289855072],\n",
    "     [0.0724637681, 0.2898550724, 0.4637681159],\n",
    "     [0.0289855072, 0.0289855072, 0.0289855072]])\n",
    "show(p)"
   ]
  },
  {
   "cell_type": "code",
   "execution_count": 401,
   "metadata": {},
   "outputs": [
    {
     "name": "stdout",
     "output_type": "stream",
     "text": [
      "[[0.00000,0.00000,0.00000],\n",
      " [0.00000,0.33333,0.66667],\n",
      " [0.00000,0.00000,0.00000]]\n"
     ]
    }
   ],
   "source": [
    "# test 7\n",
    "colors = [['G', 'G', 'G'],\n",
    "          ['G', 'R', 'R'],\n",
    "          ['G', 'G', 'G']]\n",
    "measurements = ['R', 'R']\n",
    "motions = [[0,0], [0,1]]\n",
    "sensor_right = 1.0\n",
    "p_move = 0.5\n",
    "p = localize(colors,measurements,motions,sensor_right,p_move)\n",
    "correct_answer = (\n",
    "    [[0.0, 0.0, 0.0],\n",
    "     [0.0, 0.33333333, 0.66666666],\n",
    "     [0.0, 0.0, 0.0]])\n",
    "show(p)"
   ]
  },
  {
   "cell_type": "code",
   "execution_count": null,
   "metadata": {
    "collapsed": true
   },
   "outputs": [],
   "source": []
  }
 ],
 "metadata": {
  "kernelspec": {
   "display_name": "Python 3",
   "language": "python",
   "name": "python3"
  },
  "language_info": {
   "codemirror_mode": {
    "name": "ipython",
    "version": 3
   },
   "file_extension": ".py",
   "mimetype": "text/x-python",
   "name": "python",
   "nbconvert_exporter": "python",
   "pygments_lexer": "ipython3",
   "version": "3.6.2"
  }
 },
 "nbformat": 4,
 "nbformat_minor": 2
}
